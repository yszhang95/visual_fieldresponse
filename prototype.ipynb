{
 "cells": [
  {
   "cell_type": "markdown",
   "id": "44c59fac-f2ae-47c0-bf90-abc3512e9bf4",
   "metadata": {},
   "source": [
    "# WebGUI"
   ]
  },
  {
   "cell_type": "markdown",
   "id": "5ee77944-fc90-49df-b163-1a3c37a95db7",
   "metadata": {},
   "source": [
    "## Design\n",
    "See Model-view-controller, [wiki](https://en.wikipedia.org/wiki/Model%E2%80%93view%E2%80%93controller) and [discussions](https://stackoverflow.com/questions/54227239/how-do-i-separate-model-and-view-in-ipywidgets) in stackoverflow.\n",
    "- [ ] Plotter\n",
    "    - [ ] data loader\n",
    "    - [ ] display\n",
    "    - [ ] controller(widgets)"
   ]
  },
  {
   "cell_type": "markdown",
   "id": "8e1e9ee3-e162-45ba-922c-3cf1af9b434b",
   "metadata": {},
   "source": [
    "## plot pixels\n",
    "- [ ] "
   ]
  },
  {
   "cell_type": "code",
   "execution_count": 42,
   "id": "b8408579-3d95-4882-a178-b8c373cf2018",
   "metadata": {},
   "outputs": [],
   "source": [
    "import numpy as np\n",
    "import matplotlib.animation as animation\n",
    "np.random.seed(10)\n",
    "\n",
    "class ReadoutModel:\n",
    "    def __init__(self):\n",
    "        self.PITCH_SIZE = 0.44 # mm\n",
    "        self.N = 25\n",
    "        self.N_PIXEL_X = 25\n",
    "        self.N_PIXEL_Y = 25\n",
    "        self.T = 50\n",
    "        self.TFRAME = 50\n",
    "        \n",
    "        self.charges = np.zeros([self.N_PIXEL_X, self.N_PIXEL_Y, self.TFRAME])\n",
    "        self.pixels = np.zeros([self.N_PIXEL_X, self.N_PIXEL_Y, self.TFRAME])\n",
    "        self.fieldresponses = np.zeros([self.N_PIXEL_X, self.N_PIXEL_Y, self.TFRAME])\n",
    "\n",
    "        self.geo_pxls = []\n",
    "    def load_data(self, input_q=None, input_fr=None):\n",
    "        if input_q is None or input_fr is None:\n",
    "            self.pixels = self._create_testdata()\n",
    "    def _create_testdata(self):\n",
    "        # https://numpy.org/doc/stable/reference/random/generated/numpy.random.multivariate_normal.html\n",
    "        T = self.T\n",
    "        N = self.N\n",
    "        pixels = np.zeros([N, N, T])\n",
    "        for i in range(T):\n",
    "            d2d = np.random.multivariate_normal([0, 0], [[1, i/T/2], [i/T/2, 1]], 10000)\n",
    "            x = d2d[:,0]; y= d2d[:,1]\n",
    "            # https://numpy.org/doc/stable/reference/generated/numpy.histogram2d.html\n",
    "            H, yedges, xedges = np.histogram2d(y, x, bins=N, range=[[-5, 5], [-5, 5]])\n",
    "            pixels[:,:,i] = H\n",
    "\n",
    "        return pixels\n",
    "    def _test_create_testdata(self):\n",
    "        self.pixels = self._create_testdata()\n",
    "        fig, ax = plt.subplots()\n",
    "        img = ax.imshow(self.pixels[:,:,0])\n",
    "        def update_testdata(frame):\n",
    "            H = self.pixels[:,:,frame]\n",
    "            ax.set_title('Frame {}'.format(frame))\n",
    "            img.set_data(H)\n",
    "            return img\n",
    "        ani = animation.FuncAnimation(fig=fig, func=update_testdata, frames=self.T, interval=200)\n",
    "        ani.save('testdata.gif', fps=10)\n",
    "            "
   ]
  }
 ],
 "metadata": {
  "kernelspec": {
   "display_name": "WebGuiJupyter",
   "language": "python",
   "name": "webguijupyter"
  },
  "language_info": {
   "codemirror_mode": {
    "name": "ipython",
    "version": 3
   },
   "file_extension": ".py",
   "mimetype": "text/x-python",
   "name": "python",
   "nbconvert_exporter": "python",
   "pygments_lexer": "ipython3",
   "version": "3.11.10"
  }
 },
 "nbformat": 4,
 "nbformat_minor": 5
}
