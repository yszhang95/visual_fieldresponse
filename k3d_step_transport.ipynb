{
 "cells": [
  {
   "cell_type": "code",
   "execution_count": 6,
   "id": "d5411e11-ad9a-4de7-b132-9f666f979728",
   "metadata": {},
   "outputs": [
    {
     "data": {
      "application/vnd.jupyter.widget-view+json": {
       "model_id": "62a6bb00680d464680eaff4bc5193392",
       "version_major": 2,
       "version_minor": 0
      },
      "text/plain": [
       "Output()"
      ]
     },
     "metadata": {},
     "output_type": "display_data"
    }
   ],
   "source": [
    "import numpy as np\n",
    "import k3d\n",
    "\n",
    "# Define the initial and final positions of the box's center\n",
    "X0 = np.array([0, 0, 0])  # Initial center\n",
    "X1 = np.array([5, 5, 5])  # Final center\n",
    "\n",
    "# Box dimensions\n",
    "lx, ly, lz = 2, 3, 1  # Length along x, y, z axes\n",
    "\n",
    "# Function to compute the vertices of the box\n",
    "def compute_vertices(center, lx, ly, lz):\n",
    "    cx, cy, cz = center\n",
    "    dx, dy, dz = lx / 2, ly / 2, lz / 2\n",
    "    vertices = np.array([\n",
    "        [cx - dx, cy - dy, cz - dz], [cx + dx, cy - dy, cz - dz],\n",
    "        [cx + dx, cy + dy, cz - dz], [cx - dx, cy + dy, cz - dz],\n",
    "        [cx - dx, cy - dy, cz + dz], [cx + dx, cy - dy, cz + dz],\n",
    "        [cx + dx, cy + dy, cz + dz], [cx - dx, cy + dy, cz + dz]\n",
    "    ])\n",
    "    return vertices\n",
    "\n",
    "# Function to compute the faces of the box\n",
    "def compute_faces(vertices):\n",
    "    \"\"\"Return triangular faces for the box based on its vertices.\"\"\"\n",
    "    # Define faces using vertex indices (two triangles per face)\n",
    "    faces = np.array([\n",
    "        [0, 1, 5], [0, 5, 4],  # Front face\n",
    "        [1, 2, 6], [1, 6, 5],  # Right face\n",
    "        [2, 3, 7], [2, 7, 6],  # Back face\n",
    "        [3, 0, 4], [3, 4, 7],  # Left face\n",
    "        [0, 1, 2], [0, 2, 3],  # Bottom face\n",
    "        [4, 5, 6], [4, 6, 7],  # Top face\n",
    "    ])\n",
    "    return faces\n",
    "\n",
    "# Interpolate between X0 and X1\n",
    "def interpolate(X0, X1, steps):\n",
    "    return [(1 - t) * X0 + t * X1 for t in np.linspace(0, 1, steps)]\n",
    "\n",
    "# Parameters for the motion\n",
    "steps = 100  # Number of steps in the motion\n",
    "centers = interpolate(X0, X1, steps)\n",
    "\n",
    "# Prepare the interactive plot\n",
    "plot = k3d.plot(camera_auto_fit=True)\n",
    "\n",
    "# Add meshes for each step\n",
    "for center in centers:\n",
    "    vertices = compute_vertices(center, lx, ly, lz)\n",
    "    faces = compute_faces(vertices)\n",
    "    mesh = k3d.mesh(vertices, faces, color=0x00ff00, wireframe=False, opacity=0.5)\n",
    "    plot += mesh\n",
    "\n",
    "# Display the plot\n",
    "plot.display()\n"
   ]
  },
  {
   "cell_type": "code",
   "execution_count": null,
   "id": "d3abc9de-f708-48b3-bac3-9da931d0d38b",
   "metadata": {},
   "outputs": [],
   "source": []
  }
 ],
 "metadata": {
  "kernelspec": {
   "display_name": "ND 2x2 event display",
   "language": "python",
   "name": "nd2x2eventdisplay"
  },
  "language_info": {
   "codemirror_mode": {
    "name": "ipython",
    "version": 3
   },
   "file_extension": ".py",
   "mimetype": "text/x-python",
   "name": "python",
   "nbconvert_exporter": "python",
   "pygments_lexer": "ipython3",
   "version": "3.12.6"
  }
 },
 "nbformat": 4,
 "nbformat_minor": 5
}
